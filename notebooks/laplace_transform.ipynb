{
 "cells": [
  {
   "cell_type": "markdown",
   "metadata": {
    "slideshow": {
     "slide_type": "slide"
    }
   },
   "source": [
    "# Graphical meaning"
   ]
  },
  {
   "cell_type": "markdown",
   "metadata": {},
   "source": [
    "[Laplace transform from Wolfram Mathworld](\"https://mathworld.wolfram.com/LaplaceTransform.html):\n",
    "\n"
   ]
  },
  {
   "cell_type": "code",
   "execution_count": null,
   "metadata": {
    "hideCode": false,
    "hidePrompt": false,
    "slideshow": {
     "slide_type": "skip"
    }
   },
   "outputs": [],
   "source": [
    "%matplotlib notebook\n",
    "import numpy as np\n",
    "from matplotlib.pyplot import plot as pl\n",
    "from matplotlib import cm\n",
    "\n",
    "from scipy import signal\n",
    "\n",
    "import ipyvolume as ipv\n",
    "exec(open('python_functions/transfer_function_explorer.py').read())"
   ]
  },
  {
   "cell_type": "markdown",
   "metadata": {
    "slideshow": {
     "slide_type": "slide"
    }
   },
   "source": [
    "Canonical form: $$ \\frac{(1+\\tau_as)}{(1+\\tau_bs)}$$\n",
    "Zero-pole-gain form : $$ \\frac{(\\frac{1}{\\tau_a}+s)}{(\\frac{1}{\\tau_b}+s)} $$\n",
    "\n",
    "\n"
   ]
  },
  {
   "cell_type": "code",
   "execution_count": null,
   "metadata": {
    "hideCode": false,
    "hidePrompt": false,
    "slideshow": {
     "slide_type": "slide"
    }
   },
   "outputs": [],
   "source": [
    "ipv.figure(); ipv.show()\n",
    "\n",
    "zeros = [-4]\n",
    "poles = [0]\n",
    "gain = 1\n",
    "\n",
    "system = signal.ZerosPolesGain(zeros,poles,gain)\n",
    "\n",
    "laplace_plot(system, surface=True)\n",
    "import control as c\n",
    "\n"
   ]
  },
  {
   "cell_type": "code",
   "execution_count": null,
   "metadata": {},
   "outputs": [],
   "source": []
  },
  {
   "cell_type": "code",
   "execution_count": null,
   "metadata": {},
   "outputs": [],
   "source": []
  }
 ],
 "metadata": {
  "celltoolbar": "Hide code",
  "kernelspec": {
   "display_name": "Python 3 (ipykernel)",
   "language": "python",
   "name": "python3"
  },
  "language_info": {
   "codemirror_mode": {
    "name": "ipython",
    "version": 3
   },
   "file_extension": ".py",
   "mimetype": "text/x-python",
   "name": "python",
   "nbconvert_exporter": "python",
   "pygments_lexer": "ipython3",
   "version": "3.11.5"
  }
 },
 "nbformat": 4,
 "nbformat_minor": 2
}
