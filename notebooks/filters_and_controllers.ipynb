{
 "cells": [
  {
   "cell_type": "markdown",
   "metadata": {},
   "source": [
    "# Digital Filters to control experiments.\n",
    "This document wants to be a general guide for the synthesys of filters and controllers with applications in controlling physics experiments.\n",
    "\n",
    "Althought some basic concepts on microcontrollers, programmable logic, Nyquist sampling theorem, furier transform, laplace transform, Zeta transform, PID control, will help to digest this material The guide is aimed to a generic audience, therefore most of these concepts will be revisited.\n",
    "\n",
    "Before starting I would like to suggest you to watch a [video by 3Blu1Brown](https://www.youtube.com/watch?v=spUNpyF58BY \"Great Youtube channel!\") that explains the Fourier Transform in a very intuitive an unusual way.\n",
    "\n",
    "let's get started."
   ]
  },
  {
   "cell_type": "code",
   "execution_count": 2,
   "metadata": {},
   "outputs": [
    {
     "data": {
      "text/html": [
       "\n",
       "        <iframe\n",
       "            width=\"400\"\n",
       "            height=\"300\"\n",
       "            src=\"https://www.youtube.com/embed/spUNpyF58BY\"\n",
       "            frameborder=\"0\"\n",
       "            allowfullscreen\n",
       "        ></iframe>\n",
       "        "
      ],
      "text/plain": [
       "<IPython.lib.display.YouTubeVideo at 0x30f07db0>"
      ]
     },
     "execution_count": 2,
     "metadata": {},
     "output_type": "execute_result"
    }
   ],
   "source": [
    "from IPython.lib.display import YouTubeVideo\n",
    "YouTubeVideo('spUNpyF58BY')"
   ]
  },
  {
   "cell_type": "markdown",
   "metadata": {},
   "source": [
    "## Fourier, Laplace, zeta transforms.\n",
    "Most of the audience is probably quite familiar with the Fourier transform.\n",
    "\n",
    "$$ \\mathcal{F}\\left( f(x)\\right)=\\int_{-\\infty}^{\\infty} f(t) e^{-i 2\\pi f t} dt$$\n",
    "\n",
    "The Laplace transform is defined over the whole complex plane. That means that it maps a complex number into a complex number and it is defined as:\n",
    "\n",
    "$$ \\mathcal{L}\\left( f(x)\\right)=\\int_{0}^{\\infty} f(x) e^{-st} dt$$\n",
    "\n",
    "\n",
    "We will use the powerful libraries in scipy to perform filter design.\n",
    "* [signal processing in scipy](https://docs.scipy.org/doc/scipy/reference/signal.html)"
   ]
  },
  {
   "cell_type": "code",
   "execution_count": 61,
   "metadata": {},
   "outputs": [
    {
     "data": {
      "text/plain": [
       "[<matplotlib.lines.Line2D at 0x2caf4410>]"
      ]
     },
     "execution_count": 61,
     "metadata": {},
     "output_type": "execute_result"
    },
    {
     "data": {
      "image/png": "[encoded data removed]",
      "text/plain": [
       "<matplotlib.figure.Figure at 0x2cb702b0>"
      ]
     },
     "metadata": {},
     "output_type": "display_data"
    }
   ],
   "source": [
    "import sympy as sp #(https://github.com/jrjohansson/scientific-python-lectures/blob/master/Lecture-5-Sympy.ipynb)\n",
    "import numpy as np\n",
    "import scipy.signal as sig\n",
    "import matplotlib.pyplot as pl\n",
    "%matplotlib inline\n",
    "\n",
    "my_filter=sig.lti([[0., 1.], [0., 0.]], [[0.], [1.]], [[1., 0.]], 0.)\n",
    "t=np.linspace(0,100)\n",
    "u=np.ones_like(t)\n",
    "simulation=sig.lsim(my_filter,u,t)\n",
    "\n",
    "pl.plot(simulation[0],simulation[1])\n",
    "pl.plot(simulation[0],simulation[1])\n",
    "\n",
    "\n",
    "\n",
    "    \n",
    "    "
   ]
  },
  {
   "cell_type": "code",
   "execution_count": null,
   "metadata": {
    "collapsed": true,
    "jupyter": {
     "outputs_hidden": true
    }
   },
   "outputs": [],
   "source": []
  }
 ],
 "metadata": {
  "kernelspec": {
   "display_name": "Python 3 (ipykernel)",
   "language": "python",
   "name": "python3"
  },
  "language_info": {
   "codemirror_mode": {
    "name": "ipython",
    "version": 3
   },
   "file_extension": ".py",
   "mimetype": "text/x-python",
   "name": "python",
   "nbconvert_exporter": "python",
   "pygments_lexer": "ipython3",
   "version": "3.10.6"
  }
 },
 "nbformat": 4,
 "nbformat_minor": 4
}
