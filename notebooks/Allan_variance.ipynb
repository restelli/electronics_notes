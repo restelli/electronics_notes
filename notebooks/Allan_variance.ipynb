{
 "cells": [
  {
   "cell_type": "markdown",
   "id": "307828f0-e0b6-4ca5-a85f-6bac230244b4",
   "metadata": {},
   "source": [
    "# These notes are about Allan variance\n",
    "\n",
    "The best explanation of Allan Variance is the one of Allan himself:\n",
    "\n",
    "[Main page at tf.nist.gov](https://tf.nist.gov/phase/Properties/main.htm)\n",
    "\n",
    "These notes are just reporting relevant formulas for general cases, but I suggest reading the original source.\n",
    "\n",
    "In order to define Allan variance we imagine to have a very stable reference source with frequency $\\nu_0$ and a DUT with frequency $\\nu_1$. Then we define the concept of istantaneous frequency deviation as:\n",
    "\n",
    "$$ y(t)=\\frac{\\nu_1(t)-\\nu_0(t)}{\\nu_0(t)} $$\n",
    "\n",
    "It is impossibile to measure instantaneous frequencies... a measurement interval must be always provided, so we can create the variable x(t) this way:\n",
    "\n",
    "$$ x(t) = \\int_0^t{y(t')dt'} $$\n",
    "\n",
    "That particular average, for a white noise process should converge to zero as t increases, however for non stationary processes (in particular with flicker noise) that might not be the case.\n",
    "\n",
    "What is usually interesting is the average over a smaller time $\\tau$. This is actually often what the measuring instrument is capable of. So this is usually what we have:\n",
    "\n",
    "$$ \\bar{y}(t) = \\frac{x(t+\\tau)-x(t)}{\\tau} $$\n",
    "\n",
    "Another way to write this would be:\n",
    "\n",
    "$$ \\bar{y}(t) = \\frac{1}{\\tau}\\int_t^{t+\\tau}{y(t')dt'} $$\n",
    "\n",
    "T is another important element to consider, defined as the deadtime of subsequent deviation measures\n",
    "\n",
    "Now let's look at Allan deviation definition from the epic [Nist online paper](https://tf.nist.gov/phase/Properties/four.htm) written by Allan himself:\n",
    "\n",
    "![](https://tf.nist.gov/phase/Properties/Properties_images/Image24.gif)\n",
    "\n",
    "The Allan variance is written as:\n",
    "\n",
    "$$ \\sigma^2(\\tau) = \\frac{1}{2\\cdot{(M-1)}}\\sum_{i=1}^{M-1}{(y_{i+1}-y_i)^2} $$\n",
    "\n",
    "This definition would imply to change $\\tau$ for every datapoint but it is also possibile, assuming T is negligible, to combine measurements in groups of n samples giving what is called non overlapping allen variance\n",
    "\n",
    "$$ \\sigma^2(n\\cdot\\tau) = frac{1}{2\\cdot(M-1)}\\sum_{i=1}^{\\frac{M-1}{n}-1}{(\\sum_{j=(n+1)\\cdot{i}}{y_j}-\\sum_{j=n\\cdot{i}}{y_j})^2}$$\n"
   ]
  },
  {
   "cell_type": "code",
   "execution_count": null,
   "id": "ffa9d3bb-99ab-47b3-a232-449b322cc0d4",
   "metadata": {},
   "outputs": [],
   "source": []
  },
  {
   "cell_type": "code",
   "execution_count": null,
   "id": "02a9745e-3df8-4c6e-b7e0-fee1fa05b658",
   "metadata": {},
   "outputs": [],
   "source": []
  }
 ],
 "metadata": {
  "kernelspec": {
   "display_name": "Python 3 (ipykernel)",
   "language": "python",
   "name": "python3"
  },
  "language_info": {
   "codemirror_mode": {
    "name": "ipython",
    "version": 3
   },
   "file_extension": ".py",
   "mimetype": "text/x-python",
   "name": "python",
   "nbconvert_exporter": "python",
   "pygments_lexer": "ipython3",
   "version": "3.11.5"
  }
 },
 "nbformat": 4,
 "nbformat_minor": 5
}
