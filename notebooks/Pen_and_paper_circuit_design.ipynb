{
 "cells": [
  {
   "cell_type": "code",
   "execution_count": null,
   "metadata": {
    "slideshow": {
     "slide_type": "skip"
    }
   },
   "outputs": [],
   "source": [
    "%matplotlib notebook\n",
    "import numpy as np\n",
    "from matplotlib.pyplot import plot as pl\n",
    "from matplotlib import cm\n",
    "\n",
    "from scipy import signal\n",
    "\n",
    "import ipyvolume as ipv\n",
    "exec(open('python_functions/transfer_function_explorer.py').read())"
   ]
  },
  {
   "cell_type": "markdown",
   "metadata": {
    "hideOutput": true,
    "slideshow": {
     "slide_type": "slide"
    }
   },
   "source": [
    "# Pen-and paper circuit design\n",
    "\n",
    "- ## Rules and tricks to simplify calculations\n",
    "- ## Designing with individual transistors\n",
    "- ## Operational amplifiers\n",
    "- ## Exploring the Laplace transformation\n"
   ]
  },
  {
   "cell_type": "markdown",
   "metadata": {
    "slideshow": {
     "slide_type": "subslide"
    }
   },
   "source": [
    "## Rules and tricks\n",
    "- Inspect circuit to find the first relevant quantities.\n",
    "- Use the principle of superposition of effects\n",
    "    - Choose a zero potential reference\n",
    "    - Create auxiliary circuits to calculate individual contributions.\n",
    "- Use Ohm's law\n",
    "- Use operational calculus (Oliver Heaviside) for differential equations\n",
    "$$i=C\\frac{dv}{dt}\\leftrightarrow I\\cdot~e^{j\\omega~t+j\\phi}=C\\cdot\\frac{d}{dt}V\\cdot~e^{j\\omega~t+j\\phi}\\leftrightarrow~I\\cdot~e^{j\\omega~t+j\\phi}=j\\omega~C\\cdot~V \\cdot~e^{j\\omega~t+j\\phi}$$\n",
    "\n",
    "$$\\frac{v}{i}=Z=\\frac{1}{j\\omega~C}=\\frac{1}{sC} $$\n",
    "\n",
    "$$v=L\\frac{di}{dt}\\leftrightarrow V\\cdot~e^{j\\omega~t+j\\phi}=\\cdot\\frac{d}{dt}I\\cdot~e^{j\\omega~t+j\\phi}\\leftrightarrow~V\\cdot~e^{j\\omega~t+j\\phi}=j\\omega~L\\cdot~I\\cdot~e^{j\\omega~t+j\\phi}$$\n",
    "\n",
    "$$\\frac{v}{i}=Z={j\\omega~L}=sL $$"
   ]
  },
  {
   "cell_type": "markdown",
   "metadata": {
    "slideshow": {
     "slide_type": "subslide"
    }
   },
   "source": [
    "# Beyond pen and paper..\n",
    "\n",
    "## Spice simulator\n",
    "\n",
    "- ### My suggestion is [LTSpice from Analog Devices](https://www.analog.com/en/design-center/design-tools-and-calculators/ltspice-simulator.html)\n",
    "\n",
    "- ### There is an unofficial wiki [ltwiki.org](https://ltwiki.org) that allows to unlock undocumented capabilities"
   ]
  },
  {
   "cell_type": "markdown",
   "metadata": {
    "slideshow": {
     "slide_type": "slide"
    }
   },
   "source": [
    "# The bipolar transistor\n",
    "\n",
    "[2n2222 NPN](https://www.onsemi.com/pdf/datasheet/p2n2222a-d.pdf)\n",
    "\n",
    "[2n2907 PNP](https://www.onsemi.com/pdf/datasheet/p2n2907a-d.pdf)\n",
    "\n",
    "## Small signal model\n",
    "beta $$ \\beta=\\frac{I_c}{I_b} $$\n",
    "transconductance $$ g_m = \\frac{q\\cdot~I_c}{kT}=\\frac{I_c}{V_t} $$\n",
    "Imput resistance $$ R_\\pi = \\frac {\\beta}{V_t} $$\n"
   ]
  },
  {
   "cell_type": "markdown",
   "metadata": {
    "slideshow": {
     "slide_type": "subslide"
    }
   },
   "source": [
    "# The three gain configurations"
   ]
  },
  {
   "cell_type": "markdown",
   "metadata": {
    "slideshow": {
     "slide_type": "slide"
    }
   },
   "source": [
    "# Some basic element of control theory: feedback\n",
    "- [Harold S. Black patented feedback amplifiers in 1928-1937](https://patentimages.storage.googleapis.com/b8/63/f0/e6bfd23228c3e1/US2102671.pdf)\n",
    "\n",
    "<img src=\"./images/Black.svg\" > </img>\n"
   ]
  },
  {
   "cell_type": "markdown",
   "metadata": {
    "slideshow": {
     "slide_type": "slide"
    }
   },
   "source": [
    "# A simple Op-amp\n",
    "\n",
    "- A good resource about Opamps is [Linear Circuit Design Handbook by Analog Devices](https://www.analog.com/en/education/education-library/linear-circuit-design-handbook.html)\n",
    "\n",
    "Op-amps have been around since...\\*\n",
    "- First time the term was used: [John R. Ragazzini, et al., Proceedings of the IRE, vol. 35, May 1947, pp. 444-452.](https://worldradiohistory.com/Archive-IRE/40s/IRE-1947-05.pdf)\n",
    "    \n",
    "- [George A. Philbrick Researches (GAP/R) K2-W](http://www.philbrickarchive.org/k2-w_refurbished.pdf) commercialized in 1953\n",
    "\n",
    "- Transistor hybrid opamps\n",
    "- First monolitic opamp μA702 (Bob Widlar) in 1963 \\*.\n",
    "\n",
    "\n",
    "\n",
    "\\* [*opamp history by Analog Devices*](https://www.analog.com/media/en/training-seminars/design-handbooks/Op-Amp-Applications/SectionH.pdf)\n",
    "\n",
    "\n",
    "\n",
    "\n"
   ]
  },
  {
   "cell_type": "markdown",
   "metadata": {},
   "source": [
    "# Let's open an Op-amp datasheet\n",
    "\n",
    "[op27](https://www.ti.com/lit/ds/symlink/op27.pdf): general purpose low noise opamp\n",
    "\n",
    "[opa847](https://www.ti.com/lit/ds/symlink/opa847.pdf): high speed opamp not unitary gain stable"
   ]
  },
  {
   "cell_type": "markdown",
   "metadata": {
    "slideshow": {
     "slide_type": "slide"
    }
   },
   "source": [
    "# Laplace transform\n",
    "\n",
    "[Laplace transform from Wolfram Mathworld](https://mathworld.wolfram.com/LaplaceTransform.html)\n",
    "\n",
    "Fourier transform $$ \\mathcal{F}\\left( f(x)\\right)=\\int_{-\\infty}^{\\infty} f(t) e^{-i 2\\pi f t} dt$$\n",
    "\n",
    "Laplace transform $$ \\mathcal{L}\\left( f(x)\\right)=\\int_{0}^{\\infty} f(x) e^{-st} dt$$\n",
    "Complex frequency paramater: $$ s = \\sigma + i\\omega $$\n",
    "\n",
    "Antitransform is = Fourier transform only if all poles and zeros are on left plane!\n"
   ]
  },
  {
   "cell_type": "markdown",
   "metadata": {
    "slideshow": {
     "slide_type": "subslide"
    }
   },
   "source": [
    "# Laplace transform notation\n",
    "\n",
    "Zero-pole-gain form : $$ \\frac{k\\cdot(\\frac{1}{\\tau_a}+s)...}{(\\frac{1}{\\tau_b}+s)...} $$\n",
    "\n",
    "Canonical form: $$ \\frac{k\\cdot\\tau_b\\cdot(1+\\tau_as)...}{\\tau_a\\cdot(1+\\tau_bs)...}$$\n",
    "\n"
   ]
  },
  {
   "cell_type": "code",
   "execution_count": null,
   "metadata": {
    "slideshow": {
     "slide_type": "subslide"
    }
   },
   "outputs": [],
   "source": [
    "ipv.figure(); ipv.show()\n",
    "\n",
    "zeros = [-4]\n",
    "poles = [0]\n",
    "#poles = [-0.25+2j,-0.25-2j]\n",
    "gain = 1\n",
    "\n",
    "system = signal.ZerosPolesGain(zeros,poles,gain)\n",
    "\n",
    "\n",
    "laplace_plot(system, surface=True) #This is a custom function: not from a toolset.\n",
    "\n"
   ]
  },
  {
   "cell_type": "markdown",
   "metadata": {
    "slideshow": {
     "slide_type": "subslide"
    }
   },
   "source": [
    "# Useful tools for stability analisys\n",
    "\n",
    "- Python library [control](https://python-control.readthedocs.io/en/0.9.2/control.html)\n",
    "    - Bode plot\n",
    "    - Poles-zeros map\n",
    "    - Root locus (Available as online tool at Swarthmore College)(https://lpsa.swarthmore.edu/Root_Locus/RLDraw.html)\n",
    "    \n",
    "    drawing the roots of $ 1+k\\cdot~H(s)G(s) $ as k increases\n",
    "    ![control](images/control_system.svg)"
   ]
  },
  {
   "cell_type": "code",
   "execution_count": null,
   "metadata": {
    "slideshow": {
     "slide_type": "subslide"
    }
   },
   "outputs": [],
   "source": [
    "import control as c #Control is a useful control system toolbox\n",
    "import scipy.signal as sy\n",
    "from matplotlib import pyplot as plt\n",
    "%matplotlib notebook\n",
    "\n",
    "zeros = [-10]\n",
    "poles = [0,-20,-50]\n",
    "\n",
    "#zeros = [-0.05]\n",
    "zeros = []\n",
    "#poles = [-0.1+0.4j,-0.1-0.4j]\n",
    "\n",
    "gain = np.product(np.abs([p for p in poles if p != 0]+[1]))/np.product(np.abs(zeros+[1]))\n",
    "\n",
    "\n",
    "F = sy.ZerosPolesGain(zeros,poles,gain*300)\n",
    "\n",
    "\n",
    "system = F.to_tf()\n",
    "\n",
    "sys = c.tf(system.num,system.den)\n",
    "\n",
    "plt.figure()\n",
    "\n",
    "\n",
    "\n",
    "#c.pzmap(sys)\n",
    "#c.bode(sys,Hz=True)\n",
    "\n",
    "c.rlocus(sys)\n",
    "\n",
    "\n",
    "plt.figure()\n",
    "imp = c.impulse_response(sys)\n",
    "plt.plot(imp.time,imp.outputs)\n",
    "\n",
    "\n",
    "plt.figure()\n",
    "\n",
    "n=sys/(sys+1)\n",
    "\n",
    "#c.bode(n);\n",
    "imp = c.impulse_response(n)\n",
    "plt.plot(imp.time,imp.outputs)\n",
    "\n",
    "\n",
    "\n",
    "\n",
    "\n",
    "\n"
   ]
  },
  {
   "cell_type": "markdown",
   "metadata": {
    "slideshow": {
     "slide_type": "slide"
    }
   },
   "source": [
    "![PID controller](./images/PID_Schematic.png)\n"
   ]
  },
  {
   "cell_type": "code",
   "execution_count": null,
   "metadata": {
    "slideshow": {
     "slide_type": "subslide"
    }
   },
   "outputs": [],
   "source": [
    "\n",
    "\n"
   ]
  },
  {
   "cell_type": "code",
   "execution_count": null,
   "metadata": {
    "hideCode": true,
    "hideOutput": true,
    "hidePrompt": true,
    "slideshow": {
     "slide_type": "skip"
    }
   },
   "outputs": [],
   "source": [
    "#NOTE: The code below uses just scipy library \"signal\" instead of control\n",
    "## Hidden cell\n",
    "\n",
    "import scipy.signal as sy\n",
    "from matplotlib import pyplot as plt\n",
    "%matplotlib notebook\n",
    "\n",
    "\n",
    "zeros = [-1]\n",
    "\n",
    "poles = [0,-10]\n",
    "\n",
    "gain = 3\n",
    "\n",
    "F = sy.ZerosPolesGain(zeros,poles,gain)\n",
    "\n",
    "w,mag,phase = sy.bode(F)\n",
    "\n",
    "plt.semilogx(w,mag)\n",
    "plt.semilogx(w,phase)\n",
    "\n",
    "\n"
   ]
  }
 ],
 "metadata": {
  "celltoolbar": "Slideshow",
  "kernelspec": {
   "display_name": "Python 3",
   "language": "python",
   "name": "python3"
  },
  "language_info": {
   "codemirror_mode": {
    "name": "ipython",
    "version": 3
   },
   "file_extension": ".py",
   "mimetype": "text/x-python",
   "name": "python",
   "nbconvert_exporter": "python",
   "pygments_lexer": "ipython3",
   "version": "3.7.3"
  }
 },
 "nbformat": 4,
 "nbformat_minor": 2
}
